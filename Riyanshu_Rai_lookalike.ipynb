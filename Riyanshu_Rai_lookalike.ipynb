{
  "nbformat": 4,
  "nbformat_minor": 0,
  "metadata": {
    "colab": {
      "provenance": [],
      "mount_file_id": "1FEjvVLyiClt4QkV5Jq6ZcMzFWqEHgfhe",
      "authorship_tag": "ABX9TyPUhafhIHwz8/NmPfuGcRBD",
      "include_colab_link": true
    },
    "kernelspec": {
      "name": "python3",
      "display_name": "Python 3"
    },
    "language_info": {
      "name": "python"
    }
  },
  "cells": [
    {
      "cell_type": "markdown",
      "metadata": {
        "id": "view-in-github",
        "colab_type": "text"
      },
      "source": [
        "<a href=\"https://colab.research.google.com/github/Rishiii5455/Zeotap-Intership-Assignment/blob/main/Riyanshu_Rai_lookalike.ipynb\" target=\"_parent\"><img src=\"https://colab.research.google.com/assets/colab-badge.svg\" alt=\"Open In Colab\"/></a>"
      ]
    },
    {
      "cell_type": "code",
      "metadata": {
        "id": "SJtN0_8n-h0M",
        "colab": {
          "base_uri": "https://localhost:8080/"
        },
        "outputId": "982876d8-37fb-45bc-e8c0-4622a73c0275"
      },
      "source": [
        "import pandas as pd\n",
        "import os\n",
        "from sklearn.metrics.pairwise import cosine_similarity\n",
        "from sklearn.preprocessing import StandardScaler\n",
        "\n",
        "# Load datasets\n",
        "customers = pd.read_csv('Customers.csv')\n",
        "products = pd.read_csv('Products.csv')\n",
        "transactions = pd.read_csv('Transactions.csv')\n",
        "\n",
        "# Convert dates to datetime\n",
        "customers['SignupDate'] = pd.to_datetime(customers['SignupDate'])\n",
        "transactions['TransactionDate'] = pd.to_datetime(transactions['TransactionDate'])\n",
        "\n",
        "# Check for missing values and duplicates\n",
        "print(\"Missing values in Customers:\\n\", customers.isnull().sum())\n",
        "print(\"Missing values in Products:\\n\", products.isnull().sum())\n",
        "print(\"Missing values in Transactions:\\n\", transactions.isnull().sum())\n",
        "\n",
        "# Merge datasets\n",
        "merged_data = transactions.merge(customers, on='CustomerID').merge(products, on='ProductID')\n",
        "\n",
        "# Check the columns in merged_data\n",
        "print(\"Columns in merged_data:\", merged_data.columns)\n",
        "\n",
        "# Prepare customer features\n",
        "# Check if 'Price' exists in merged_data\n",
        "if 'Price' in merged_data.columns:\n",
        "    customer_features = merged_data.groupby('CustomerID').agg({\n",
        "        'TotalValue': 'sum',\n",
        "        'Quantity': 'sum',\n",
        "        'Price': 'mean'  # This line will only work if 'Price' exists\n",
        "    }).reset_index()\n",
        "else:\n",
        "    print(\"Price column does not exist. Adjusting feature engineering.\")\n",
        "    customer_features = merged_data.groupby('CustomerID').agg({\n",
        "        'TotalValue': 'sum',\n",
        "        'Quantity': 'sum'\n",
        "        # Exclude 'Price' if it doesn't exist\n",
        "    }).reset_index()\n",
        "\n",
        "# Standardize features\n",
        "scaler = StandardScaler()\n",
        "scaled_features = scaler.fit_transform(customer_features.iloc[:, 1:])  # Exclude 'CustomerID'\n",
        "\n",
        "# Compute cosine similarity\n",
        "similarities = cosine_similarity(scaled_features)\n",
        "similarity_df = pd.DataFrame(similarities, index=customer_features['CustomerID'], columns=customer_features['CustomerID'])\n",
        "\n",
        "# Get top 3 similar customers for the first 20\n",
        "lookalikes = {}\n",
        "for cust_id in customer_features['CustomerID'][:20]:\n",
        "    similar_customers = similarity_df.loc[cust_id].sort_values(ascending=False)[1:4]  # Exclude self\n",
        "    lookalikes[cust_id] = similar_customers.items()\n",
        "\n",
        "# Save results\n",
        "lookalikes_df = pd.DataFrame(lookalikes)\n",
        "lookalikes_df.to_csv('Riyanshu_Rai_Lookalike.csv', index=False)\n",
        "print(\"Lookalike results saved to 'Riyanshu_Rai_Lookalike.csv'\")\n",
        ""
      ],
      "execution_count": 7,
      "outputs": [
        {
          "output_type": "stream",
          "name": "stdout",
          "text": [
            "Missing values in Customers:\n",
            " CustomerID      0\n",
            "CustomerName    0\n",
            "Region          0\n",
            "SignupDate      0\n",
            "dtype: int64\n",
            "Missing values in Products:\n",
            " ProductID      0\n",
            "ProductName    0\n",
            "Category       0\n",
            "Price          0\n",
            "dtype: int64\n",
            "Missing values in Transactions:\n",
            " TransactionID      0\n",
            "CustomerID         0\n",
            "ProductID          0\n",
            "TransactionDate    0\n",
            "Quantity           0\n",
            "TotalValue         0\n",
            "Price              0\n",
            "dtype: int64\n",
            "Columns in merged_data: Index(['TransactionID', 'CustomerID', 'ProductID', 'TransactionDate',\n",
            "       'Quantity', 'TotalValue', 'Price_x', 'CustomerName', 'Region',\n",
            "       'SignupDate', 'ProductName', 'Category', 'Price_y'],\n",
            "      dtype='object')\n",
            "Price column does not exist. Adjusting feature engineering.\n",
            "Lookalike results saved to 'Riyanshu_Rai_Lookalike.csv'\n"
          ]
        }
      ]
    },
    {
      "cell_type": "code",
      "source": [],
      "metadata": {
        "id": "g8gpCFdV9Doc"
      },
      "execution_count": null,
      "outputs": []
    }
  ]
}